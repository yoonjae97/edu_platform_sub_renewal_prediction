{
 "cells": [
  {
   "cell_type": "code",
   "execution_count": 26,
   "metadata": {},
   "outputs": [],
   "source": [
    "import pandas as pd\n",
    "import matplotlib.pyplot as plt\n",
    "import seaborn as sns\n",
    "import warnings\n",
    "from sklearn.ensemble import BaggingClassifier, HistGradientBoostingClassifier\n",
    "from sklearn.linear_model import RidgeClassifier, RidgeClassifierCV\n",
    "from sklearn.preprocessing import StandardScaler, LabelEncoder, MinMaxScaler, OneHotEncoder\n",
    "from sklearn.linear_model import LogisticRegression\n",
    "from sklearn.ensemble import GradientBoostingClassifier, AdaBoostClassifier, RandomForestClassifier\n",
    "from xgboost import XGBClassifier\n",
    "from lightgbm import LGBMClassifier\n",
    "from sklearn.svm import SVC\n",
    "from sklearn.model_selection import train_test_split\n",
    "from sklearn.metrics import classification_report, f1_score\n",
    "from sklearn.model_selection import GridSearchCV\n",
    "from sklearn.metrics import make_scorer\n",
    "from sklearn.neural_network import MLPClassifier\n",
    "from sklearn.utils.class_weight import compute_class_weight\n",
    "from sklearn.ensemble import VotingClassifier\n",
    "from sklearn.utils.class_weight import compute_class_weight\n",
    "from catboost import  CatBoostClassifier\n",
    "from sklearn.neural_network import MLPClassifier\n",
    "from IPython.display import clear_output\n",
    "from tqdm import tqdm\n",
    "import numpy as np\n",
    "from imblearn.over_sampling import SMOTE, ADASYN, BorderlineSMOTE, KMeansSMOTE, SVMSMOTE, SMOTENC, SMOTEN\n",
    "from imblearn.under_sampling import ClusterCentroids, EditedNearestNeighbours, RepeatedEditedNearestNeighbours, AllKNN, NearMiss, InstanceHardnessThreshold, NeighbourhoodCleaningRule, OneSidedSelection, TomekLinks\n",
    "from imblearn.combine import SMOTETomek, SMOTEENN"
   ]
  },
  {
   "cell_type": "code",
   "execution_count": 32,
   "metadata": {},
   "outputs": [],
   "source": [
    "from sklearn.utils.class_weight import compute_class_weight\n",
    "from catboost import  CatBoostClassifier\n",
    "from sklearn.neural_network import MLPClassifier\n",
    "\n",
    "train = pd.read_csv(\"./data/train.csv\", encoding=\"utf-8-sig\")\n",
    "test = pd.read_csv(\"./data/test.csv\", encoding=\"utf-8-sig\")\n",
    "sample = pd.read_csv(\"./data/sample_submission.csv\", encoding=\"utf-8-sig\")\n",
    "\n",
    "from sklearn.preprocessing import StandardScaler, LabelEncoder, MinMaxScaler, OneHotEncoder\n",
    "\n",
    "# 수치형 및 범주형 변수 구분\n",
    "numerical_cols = [col for col in train.columns if train[col].dtype in ['int64', 'float64'] and col not in ['target']]\n",
    "numerical_cols.remove('payment_pattern')\n",
    "categorical_cols = [col for col in train.columns if train[col].dtype == 'object' and col not in ['user_id']]\n",
    "categorical_cols.append('payment_pattern')\n",
    "# 데이터 스케일링을 위한 StandardScaler 인스턴스 생성\n",
    "scaler = StandardScaler()\n",
    "\n",
    "# 수치형 데이터에 대해 스케일링 적용\n",
    "train[numerical_cols] = scaler.fit_transform(train[numerical_cols])\n",
    "test[numerical_cols] = scaler.transform(test[numerical_cols])\n",
    "\n",
    "# 레이블 인코딩을 위한 LabelEncoder 인스턴스 생성 및 적용\n",
    "label_encoders = {}\n",
    "for col in categorical_cols:\n",
    "    label_encoders[col] = LabelEncoder()\n",
    "    train[col] = label_encoders[col].fit_transform(train[col])\n",
    "    test[col] = label_encoders[col].transform(test[col])\n",
    "\n",
    "# 전처리 후 학습 데이터 확인\n",
    "train.head()\n",
    "\n",
    "# 특성과 타겟 변수 분리\n",
    "X = train.drop(columns=['user_id', 'target'])  # user_id는 제외하고 특성 데이터로 사용\n",
    "y = train['target']\n",
    "\n",
    "# 학습 데이터와 검증 데이터 분리\n",
    "X_train, X_val, y_train, y_val = train_test_split(X, y, test_size=0.2, random_state=42)\n",
    "#X_train, y_train = OneSidedSelection().fit_resample(X_train, y_train)"
   ]
  },
  {
   "cell_type": "code",
   "execution_count": 45,
   "metadata": {},
   "outputs": [
    {
     "name": "stdout",
     "output_type": "stream",
     "text": [
      "Validation F1-score: 0.50341624614835\n",
      "              precision    recall  f1-score   support\n",
      "\n",
      "           0       0.39      0.49      0.43       758\n",
      "           1       0.63      0.53      0.57      1242\n",
      "\n",
      "    accuracy                           0.51      2000\n",
      "   macro avg       0.51      0.51      0.50      2000\n",
      "weighted avg       0.54      0.51      0.52      2000\n",
      "\n"
     ]
    }
   ],
   "source": [
    "from sklearn.metrics import accuracy_score\n",
    "# 훈련 데이터를 기반으로 클래스 가중치 계산 \n",
    "X_train, X_val, y_train, y_val = train_test_split(X, y, test_size=0.2, random_state=42)\n",
    "X_train, y_train = OneSidedSelection().fit_resample(X_train, y_train)\n",
    "class_weight  = compute_class_weight( 'balanced' , classes=[ 0 , 1 ], y=y_train)\n",
    "weights = {i: w for i, w in enumerate(class_weight)}\n",
    "\n",
    "cat = CatBoostClassifier(depth=6, iterations=700, learning_rate=0.1, random_state=42, class_weights=weights, verbose=0)\n",
    "mp = MLPClassifier(activation='tanh', alpha=0.01, hidden_layer_sizes=100, learning_rate_init=0.01, solver='adam', random_state=42)\n",
    "xgb = XGBClassifier(learning_rate=1.0, max_depth=7, n_estimators=50, random_state=42, subsample=0.5)\n",
    "\n",
    "cat.fit(X_train, y_train)\n",
    "mp.fit(X_train, y_train)\n",
    "xgb.fit(X_train, y_train)\n",
    "\n",
    "cat_predictions = cat.predict(X_train)\n",
    "mp_predictions = mp.predict(X_train)\n",
    "xgb_predictions = xgb.predict(X_train)\n",
    "\n",
    "from sklearn.linear_model import LogisticRegression\n",
    "\n",
    "pred = np.array([cat_predictions, mp_predictions, xgb_predictions])\n",
    "pred = np.transpose(pred)\n",
    "\n",
    "lr_final = LogisticRegression()\n",
    "lr_final.fit(pred, y_train)  # 학습 데이터를 사용하여 최종 모델 학습\n",
    "\n",
    "cat_test_predictions = cat.predict(X_val)\n",
    "mp_test_predictions = mp.predict(X_val)\n",
    "xgb_test_predictions = xgb.predict(X_val)\n",
    "\n",
    "# 검증 세트로 최종 모델 예측\n",
    "pred_test = np.array([cat_test_predictions, mp_test_predictions, xgb_test_predictions])\n",
    "pred_test = np.transpose(pred_test)\n",
    "final_test = lr_final.predict(pred_test)\n",
    "val_f1 = f1_score(y_val, final_test, average='macro', zero_division=0)\n",
    "print(f'Validation F1-score: {val_f1}')\n",
    "print(classification_report(y_val, final_test, zero_division=0))"
   ]
  },
  {
   "cell_type": "code",
   "execution_count": 25,
   "metadata": {},
   "outputs": [
    {
     "name": "stdout",
     "output_type": "stream",
     "text": [
      "[1]\n"
     ]
    }
   ],
   "source": [
    "cat_test = cat.predict(test)\n",
    "mp_test = mp.predict(test)\n",
    "xgb_test = xgb.predict(test)\n",
    "\n",
    "test_pred = np.array([cat_test, mp_test, xgb_test])\n",
    "test_pred = np.transpose(test_pred)\n",
    "\n",
    "test_final = lr_final.predict(test_pred)\n",
    "print(np.unique(test_final))"
   ]
  },
  {
   "cell_type": "code",
   "execution_count": null,
   "metadata": {},
   "outputs": [],
   "source": []
  }
 ],
 "metadata": {
  "kernelspec": {
   "display_name": "subs_predict",
   "language": "python",
   "name": "python3"
  },
  "language_info": {
   "codemirror_mode": {
    "name": "ipython",
    "version": 3
   },
   "file_extension": ".py",
   "mimetype": "text/x-python",
   "name": "python",
   "nbconvert_exporter": "python",
   "pygments_lexer": "ipython3",
   "version": "3.8.0"
  }
 },
 "nbformat": 4,
 "nbformat_minor": 2
}
